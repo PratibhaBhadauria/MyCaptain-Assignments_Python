{
 "cells": [
  {
   "cell_type": "code",
   "execution_count": 10,
   "metadata": {},
   "outputs": [],
   "source": [
    "#import dependencies\n",
    "import numpy\n",
    "import sys\n",
    "from nltk.tokenize import RegexpTokenizer\n",
    "from nltk.corpus import stopwords\n",
    "from keras.models import Sequential\n",
    "from keras.layers import Dense, Dropout, LSTM\n",
    "from keras.utils import np_utils\n",
    "from keras.callbacks import ModelCheckpoint"
   ]
  },
  {
   "cell_type": "code",
   "execution_count": 6,
   "metadata": {},
   "outputs": [],
   "source": [
    "#load data\n",
    "#loading data and opening our input data in the form of a text file\n",
    "#have to define file encoding as default encoding doesn't match the file encoding\n",
    "file = open(\"frankenstein.txt\", encoding=\"utf-8\").read()"
   ]
  },
  {
   "cell_type": "code",
   "execution_count": 7,
   "metadata": {},
   "outputs": [],
   "source": [
    "#tokenization : it is the process of breaking a stream of text input into words, phrases, symbols or meaningful elements \n",
    "#standardization\n",
    "def tokenize_words(input):\n",
    "    #lowercase everything to standardize\n",
    "    input=input.lower()\n",
    "    #instantiate teh tokenizer\n",
    "    tokenizer=RegexpTokenizer(r'\\w+')\n",
    "    #tokenizing the text into tokens\n",
    "    tokens = tokenizer.tokenize(input)\n",
    "    #filtering the stopwords using lambda\n",
    "    filtered = filter(lambda token: token not in stopwords.words('english'),tokens)\n",
    "    return \"\".join(filtered)\n",
    "processed_inputs = tokenize_words(file)"
   ]
  },
  {
   "cell_type": "code",
   "execution_count": 8,
   "metadata": {},
   "outputs": [],
   "source": [
    "#chars to numbers\n",
    "#convert characters in our input to numbers\n",
    "#we'll sort out the list of the set of all characters that appear in our input text and then use the enumerate function\n",
    "#we'll then create the dictionary that stores the keys and values, or the characters and the numbers that represent them\n",
    "chars=sorted(list(set(processed_inputs)))\n",
    "chars_to_num=dict((c,i) for i,c in enumerate(chars))"
   ]
  },
  {
   "cell_type": "code",
   "execution_count": 14,
   "metadata": {},
   "outputs": [
    {
     "name": "stdout",
     "output_type": "stream",
     "text": [
      "Total number of characters:  233296\n",
      "total vocab:  42\n"
     ]
    }
   ],
   "source": [
    "#check if words to chars or chars to num has worked?\n",
    "#just so we can get an idea of whether our process of converting words to characters has worked \n",
    "#we print the length of our variables\n",
    "input_len=len(processed_inputs)\n",
    "vocab_len=len(chars)\n",
    "print(\"Total number of characters: \",input_len)\n",
    "print(\"total vocab: \",vocab_len)"
   ]
  },
  {
   "cell_type": "code",
   "execution_count": 15,
   "metadata": {},
   "outputs": [],
   "source": [
    "#seq length\n",
    "#we are defining hwo long we want an individual sequence here\n",
    "#an individual sequence si a complete mapping of input characters as integers\n",
    "seq_length = 100\n",
    "x_data =[]\n",
    "y_data=[]"
   ]
  },
  {
   "cell_type": "code",
   "execution_count": 16,
   "metadata": {},
   "outputs": [
    {
     "name": "stdout",
     "output_type": "stream",
     "text": [
      "Total Patterns:  233196\n"
     ]
    }
   ],
   "source": [
    "#loop through the sequence\n",
    "#here we ar egoing through the entire list of inputs and converting the chars to numbers with a for loop\n",
    "#this will create  bunch of sequences where each sequence starts with the next character in the input data\n",
    "#beginning with the first character\n",
    "for i in range(0, input_len-seq_length, 1):\n",
    "    #define input and output response\n",
    "    #input is current character plus the desired sequence length\n",
    "    in_seq = processed_inputs[i:i + seq_length]\n",
    "    #out sequence is the initial characetr plus the total sequence length\n",
    "    out_seq = processed_inputs[i + seq_length]\n",
    "    #converting the list of characters to integers based on previous values and appendng the values to our list\n",
    "    x_data.append([chars_to_num[char] for char in in_seq])\n",
    "    y_data.append(chars_to_num[out_seq])\n",
    "    \n",
    "#check to see how many total input sequences we have\n",
    "n_patterns = len(x_data)\n",
    "print(\"Total Patterns: \",n_patterns)"
   ]
  },
  {
   "cell_type": "code",
   "execution_count": 17,
   "metadata": {},
   "outputs": [],
   "source": [
    "#convert input sequence to np array that our network can use\n",
    "X = numpy.reshape(x_data, (n_patterns ,seq_length, 1))\n",
    "X = X/float(vocab_len)"
   ]
  },
  {
   "cell_type": "code",
   "execution_count": 18,
   "metadata": {},
   "outputs": [],
   "source": [
    "#one-hot encoding\n",
    "y = np_utils.to_categorical(y_data)"
   ]
  },
  {
   "cell_type": "code",
   "execution_count": 19,
   "metadata": {},
   "outputs": [
    {
     "name": "stdout",
     "output_type": "stream",
     "text": [
      "WARNING:tensorflow:From C:\\Users\\prtb\\Anaconda3\\lib\\site-packages\\tensorflow\\python\\ops\\resource_variable_ops.py:435: colocate_with (from tensorflow.python.framework.ops) is deprecated and will be removed in a future version.\n",
      "Instructions for updating:\n",
      "Colocations handled automatically by placer.\n"
     ]
    }
   ],
   "source": [
    "#creatign the model\n",
    "#creating a sequential model\n",
    "#dropout is used to prevent overfitting\n",
    "model = Sequential()\n",
    "model.add(LSTM(256, input_shape=(X.shape[1], X.shape[2]), return_sequences=True))\n",
    "model.add(Dropout(0.2))\n",
    "model.add(LSTM(256, return_sequences=True))\n",
    "model.add(Dropout(0.2))\n",
    "model.add(LSTM(128))\n",
    "model.add(Dropout(0.2))\n",
    "model.add(Dense(y.shape[1], activation='softmax'))\n",
    "#compile the model\n",
    "model.compile(loss='categorical_crossentropy', optimizer='adam')"
   ]
  },
  {
   "cell_type": "code",
   "execution_count": 20,
   "metadata": {},
   "outputs": [],
   "source": [
    "#saving weights\n",
    "filepath=\"model_weights_saved.hdf5\"\n",
    "checkpoint = ModelCheckpoint(filepath, monitor='loss', verbose=1, save_best_only=True, mode='min')\n",
    "desired_callbacks = [checkpoint]"
   ]
  },
  {
   "cell_type": "code",
   "execution_count": 21,
   "metadata": {},
   "outputs": [
    {
     "name": "stdout",
     "output_type": "stream",
     "text": [
      "WARNING:tensorflow:From C:\\Users\\prtb\\Anaconda3\\lib\\site-packages\\tensorflow\\python\\ops\\math_ops.py:3066: to_int32 (from tensorflow.python.ops.math_ops) is deprecated and will be removed in a future version.\n",
      "Instructions for updating:\n",
      "Use tf.cast instead.\n",
      "Epoch 1/10\n",
      "233196/233196 [==============================] - 3307s 14ms/step - loss: 2.9376\n",
      "\n",
      "Epoch 00001: loss improved from inf to 2.93760, saving model to model_weights_saved.hdf5\n",
      "Epoch 2/10\n",
      "233196/233196 [==============================] - 3388s 15ms/step - loss: 2.9164\n",
      "\n",
      "Epoch 00002: loss improved from 2.93760 to 2.91644, saving model to model_weights_saved.hdf5\n",
      "Epoch 3/10\n",
      "233196/233196 [==============================] - 3561s 15ms/step - loss: 2.9078\n",
      "\n",
      "Epoch 00003: loss improved from 2.91644 to 2.90779, saving model to model_weights_saved.hdf5\n",
      "Epoch 4/10\n",
      "233196/233196 [==============================] - 3599s 15ms/step - loss: 2.8741\n",
      "\n",
      "Epoch 00004: loss improved from 2.90779 to 2.87411, saving model to model_weights_saved.hdf5\n",
      "Epoch 5/10\n",
      "233196/233196 [==============================] - 3182s 14ms/step - loss: 2.8402\n",
      "\n",
      "Epoch 00005: loss improved from 2.87411 to 2.84017, saving model to model_weights_saved.hdf5\n",
      "Epoch 6/10\n",
      "233196/233196 [==============================] - 3177s 14ms/step - loss: 2.7847\n",
      "\n",
      "Epoch 00006: loss improved from 2.84017 to 2.78469, saving model to model_weights_saved.hdf5\n",
      "Epoch 7/10\n",
      "233196/233196 [==============================] - 3168s 14ms/step - loss: 2.7202\n",
      "\n",
      "Epoch 00007: loss improved from 2.78469 to 2.72021, saving model to model_weights_saved.hdf5\n",
      "Epoch 8/10\n",
      "233196/233196 [==============================] - 36007s 154ms/step - loss: 2.6533\n",
      "\n",
      "Epoch 00008: loss improved from 2.72021 to 2.65326, saving model to model_weights_saved.hdf5\n",
      "Epoch 9/10\n",
      "233196/233196 [==============================] - 3741s 16ms/step - loss: 2.5895\n",
      "\n",
      "Epoch 00009: loss improved from 2.65326 to 2.58950, saving model to model_weights_saved.hdf5\n",
      "Epoch 10/10\n",
      "233196/233196 [==============================] - 3618s 16ms/step - loss: 2.5317\n",
      "\n",
      "Epoch 00010: loss improved from 2.58950 to 2.53168, saving model to model_weights_saved.hdf5\n"
     ]
    },
    {
     "data": {
      "text/plain": [
       "<keras.callbacks.callbacks.History at 0x28394c02f08>"
      ]
     },
     "execution_count": 21,
     "metadata": {},
     "output_type": "execute_result"
    }
   ],
   "source": [
    "#fit model andlet it train\n",
    "model.fit(X,y,epochs=10, batch_size=256, callbacks=desired_callbacks)"
   ]
  },
  {
   "cell_type": "code",
   "execution_count": 22,
   "metadata": {},
   "outputs": [],
   "source": [
    "#recompile model with the saved weights\n",
    "filename=\"model_weights_saved.hdf5\"\n",
    "model.load_weights(filename)\n",
    "model.compile(loss='categorical_crossentropy', optimizer='adam')"
   ]
  },
  {
   "cell_type": "code",
   "execution_count": 29,
   "metadata": {},
   "outputs": [],
   "source": [
    "#output of the model back to characters\n",
    "num_to_char = dict((i,c) for i, c in enumerate(chars))"
   ]
  },
  {
   "cell_type": "code",
   "execution_count": 32,
   "metadata": {},
   "outputs": [
    {
     "name": "stdout",
     "output_type": "stream",
     "text": [
      "Random Seed: \n",
      "\" hertotownpartlycuriositypartlyidlenesswentlecturingroomwaldmanenteredshortlyprofessorunlikecolleague \"\n"
     ]
    }
   ],
   "source": [
    "#random seed to help generate\n",
    "start=numpy.random.randint(0, len(x_data)-1)\n",
    "pattern=x_data[start]\n",
    "print(\"Random Seed: \")\n",
    "print(\"\\\"\", ''.join([num_to_char[value] for value in pattern]), \"\\\"\")"
   ]
  },
  {
   "cell_type": "code",
   "execution_count": 35,
   "metadata": {},
   "outputs": [
    {
     "name": "stdout",
     "output_type": "stream",
     "text": [
      "rtedsertedsertedsertedsertedsertedsertedsertedsertedsertedsertedsertedsertedsertedsertedsertedsertedsertedsertedsertedsertedsertedsertedsertedsertedsertedsertedsertedsertedsertedsertedsertedsertedsertedsertedsertedsertedsertedsertedsertedsertedsertedsertedsertedsertedsertedsertedsertedsertedsertedsertedsertedsertedsertedsertedsertedsertedsertedsertedsertedsertedsertedsertedsertedsertedsertedsertedsertedsertedsertedsertedsertedsertedsertedsertedsertedsertedsertedsertedsertedsertedsertedsertedsertedsertedsertedsertedsertedsertedsertedsertedsertedsertedsertedsertedsertedsertedsertedsertedsertedsertedsertedsertedsertedsertedsertedsertedsertedsertedsertedsertedsertedsertedsertedsertedsertedsertedsertedsertedsertedsertedsertedsertedsertedsertedsertedsertedsertedsertedsertedsertedsertedsertedsertedsertedsertedsertedsertedsertedsertedsertedsertedsertedsertedsertedsertedsertedsertedsertedsertedsertedsertedsertedsertedsertedsertedsertedsertedsertedsertedsertedsertedsertedsertedsertedsertedserted"
     ]
    }
   ],
   "source": [
    "#generate the text\n",
    "for i in range(1000):\n",
    "    x=numpy.reshape(pattern,(1, len(pattern),1))\n",
    "    x=x/float(vocab_len)\n",
    "    prediction = model.predict(x,verbose=0)\n",
    "    index = numpy.argmax(prediction)\n",
    "    result = num_to_char[index]\n",
    "    seq_in = [num_to_char[value] for value in pattern]\n",
    "    sys.stdout.write(result)\n",
    "    pattern.append(index)\n",
    "    pattern=pattern[1:len(pattern)]"
   ]
  },
  {
   "cell_type": "code",
   "execution_count": null,
   "metadata": {},
   "outputs": [],
   "source": [
    "# I tried generating for larger epochs but due to network issues I couldn't so the output doesn't actually make much sense"
   ]
  }
 ],
 "metadata": {
  "kernelspec": {
   "display_name": "Python 3",
   "language": "python",
   "name": "python3"
  },
  "language_info": {
   "codemirror_mode": {
    "name": "ipython",
    "version": 3
   },
   "file_extension": ".py",
   "mimetype": "text/x-python",
   "name": "python",
   "nbconvert_exporter": "python",
   "pygments_lexer": "ipython3",
   "version": "3.7.6"
  }
 },
 "nbformat": 4,
 "nbformat_minor": 4
}
