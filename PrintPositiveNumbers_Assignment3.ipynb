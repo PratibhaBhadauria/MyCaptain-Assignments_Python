{
 "cells": [
  {
   "cell_type": "code",
   "execution_count": 9,
   "metadata": {},
   "outputs": [
    {
     "name": "stdout",
     "output_type": "stream",
     "text": [
      "[10, 45, 12, 85, 76]\n"
     ]
    }
   ],
   "source": [
    "#Print all positive numbers ina range as list\n",
    "#From existing list of numbers\n",
    "InputList1 = [10,-3,45,-23,-56,12,85,-7,-49,76]\n",
    "OutputList1=[]\n",
    "for n in InputList1:\n",
    "    if n>=0:\n",
    "        OutputList1.append(n)\n",
    "print(OutputList1)"
   ]
  },
  {
   "cell_type": "code",
   "execution_count": 8,
   "metadata": {},
   "outputs": [
    {
     "name": "stdout",
     "output_type": "stream",
     "text": [
      "Enter the start of range: -2\n",
      "Enter the end of range: 2\n",
      "0\n",
      "1\n",
      "2\n"
     ]
    }
   ],
   "source": [
    "#Print all positive numbers in a range\n",
    "#Taking range from user\n",
    "start = int(input(\"Enter the start of range: \")) \n",
    "end = int(input(\"Enter the end of range: \")) \n",
    "\n",
    "for n in range(start, end + 1):\n",
    "    if n >= 0: \n",
    "        print(n)"
   ]
  },
  {
   "cell_type": "code",
   "execution_count": 10,
   "metadata": {},
   "outputs": [
    {
     "name": "stdout",
     "output_type": "stream",
     "text": [
      "10\n",
      "45\n",
      "12\n",
      "85\n",
      "76\n"
     ]
    }
   ],
   "source": [
    "#Print all positive numbers in a range\n",
    "#From existing list of numbers\n",
    "InputList1 = [10,-3,45,-23,-56,12,85,-7,-49,76]\n",
    "for n in InputList1:\n",
    "    if n>=0:\n",
    "        print(n)"
   ]
  }
 ],
 "metadata": {
  "kernelspec": {
   "display_name": "Python 3",
   "language": "python",
   "name": "python3"
  },
  "language_info": {
   "codemirror_mode": {
    "name": "ipython",
    "version": 3
   },
   "file_extension": ".py",
   "mimetype": "text/x-python",
   "name": "python",
   "nbconvert_exporter": "python",
   "pygments_lexer": "ipython3",
   "version": "3.7.6"
  }
 },
 "nbformat": 4,
 "nbformat_minor": 4
}
