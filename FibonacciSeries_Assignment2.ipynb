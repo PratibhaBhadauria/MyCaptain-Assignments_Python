{
 "cells": [
  {
   "cell_type": "code",
   "execution_count": 14,
   "metadata": {},
   "outputs": [
    {
     "name": "stdout",
     "output_type": "stream",
     "text": [
      "Enter a Fibonacci Number: 1\n",
      "0\n",
      "1\n",
      "1\n"
     ]
    }
   ],
   "source": [
    "#Fibonacci Series using while loop\n",
    "f=0\n",
    "s=1\n",
    "result=0\n",
    "n=int(input(\"Enter a Fibonacci Number: \"))\n",
    "\n",
    "if n<0:\n",
    "    print(\"Incorrect Input\")\n",
    "elif n==0:\n",
    "    print(f)\n",
    "else:\n",
    "    print(f)\n",
    "    print(s)\n",
    "    while result<n:    \n",
    "        result=f+s    \n",
    "        print(result)    \n",
    "        f=s\n",
    "        s=result"
   ]
  },
  {
   "cell_type": "code",
   "execution_count": 23,
   "metadata": {},
   "outputs": [
    {
     "name": "stdout",
     "output_type": "stream",
     "text": [
      "Enter no. of terms to generate: 10\n",
      "0\n",
      "1\n",
      "1\n",
      "2\n",
      "3\n",
      "5\n",
      "8\n",
      "13\n",
      "21\n",
      "34\n"
     ]
    }
   ],
   "source": [
    "#Fibonacci Series using for Loop\n",
    "#To generate series till nth term\n",
    "f=0\n",
    "s=1\n",
    "result=0\n",
    "n=int(input(\"Enter no. of terms to generate: \"))\n",
    "\n",
    "if n<0:\n",
    "    print(\"Incorrect Input\")\n",
    "elif n==0:\n",
    "    print(f)\n",
    "else:\n",
    "    print(f)\n",
    "    print(s)\n",
    "    for x in range(2,n):\n",
    "        result=f+s\n",
    "        print(result)\n",
    "        f=s\n",
    "        s=result"
   ]
  },
  {
   "cell_type": "code",
   "execution_count": 30,
   "metadata": {},
   "outputs": [
    {
     "name": "stdout",
     "output_type": "stream",
     "text": [
      "Enter nth term to show Fibonacci number: 9\n",
      "21\n"
     ]
    }
   ],
   "source": [
    "#Find out Fibonacci Number of nth term\n",
    "n=int(input(\"Enter nth term to show Fibonacci number: \"))\n",
    "a = 0\n",
    "b = 1\n",
    "if n < 0: \n",
    "    print(\"Incorrect input\") \n",
    "elif n == 0: \n",
    "    print(a) \n",
    "elif n == 1: \n",
    "    print(b) \n",
    "else: \n",
    "    for i in range(2,n): \n",
    "        c = a + b \n",
    "        a = b \n",
    "        b = c \n",
    "    print(b) \n"
   ]
  }
 ],
 "metadata": {
  "kernelspec": {
   "display_name": "Python 3",
   "language": "python",
   "name": "python3"
  },
  "language_info": {
   "codemirror_mode": {
    "name": "ipython",
    "version": 3
   },
   "file_extension": ".py",
   "mimetype": "text/x-python",
   "name": "python",
   "nbconvert_exporter": "python",
   "pygments_lexer": "ipython3",
   "version": "3.7.6"
  }
 },
 "nbformat": 4,
 "nbformat_minor": 4
}
